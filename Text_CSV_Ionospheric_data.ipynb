{
  "nbformat": 4,
  "nbformat_minor": 0,
  "metadata": {
    "colab": {
      "provenance": [],
      "authorship_tag": "ABX9TyNGp8cBp0/BALGOFnBQ5cQm",
      "include_colab_link": true
    },
    "kernelspec": {
      "name": "python3",
      "display_name": "Python 3"
    },
    "language_info": {
      "name": "python"
    }
  },
  "cells": [
    {
      "cell_type": "markdown",
      "metadata": {
        "id": "view-in-github",
        "colab_type": "text"
      },
      "source": [
        "<a href=\"https://colab.research.google.com/github/Ibituyi/Encryptix/blob/main/Text_CSV_Ionospheric_data.ipynb\" target=\"_parent\"><img src=\"https://colab.research.google.com/assets/colab-badge.svg\" alt=\"Open In Colab\"/></a>"
      ]
    },
    {
      "cell_type": "code",
      "execution_count": 17,
      "metadata": {
        "id": "yWBlot4hJEQt",
        "colab": {
          "base_uri": "https://localhost:8080/"
        },
        "outputId": "10f65be7-87aa-4e5f-f2da-5840fbf86fc5"
      },
      "outputs": [
        {
          "output_type": "stream",
          "name": "stdout",
          "text": [
            "Drive already mounted at /content/drive; to attempt to forcibly remount, call drive.mount(\"/content/drive\", force_remount=True).\n"
          ]
        }
      ],
      "source": [
        "from google.colab import drive\n",
        "drive.mount('/content/drive')"
      ]
    },
    {
      "cell_type": "code",
      "source": [
        "import csv\n",
        "import os\n",
        "\n",
        "def convert_to_csv(file_path, output_folder):\n",
        "    with open(file_path, 'r') as file:\n",
        "        lines = file.readlines()\n",
        "\n",
        "    # Extract the year from the filename (e.g., \"2001.txt\" -> \"2001\")\n",
        "    year = os.path.basename(file_path).split('.')[0]\n",
        "\n",
        "    # Extract the relevant data\n",
        "    data = []\n",
        "    for line in lines:\n",
        "        if line.startswith(year):  # Only process lines starting with the corresponding year\n",
        "            parts = line.split()\n",
        "            time = parts[0]\n",
        "            foF2 = parts[2]\n",
        "            hmF2 = parts[4]\n",
        "            tec = parts[6]\n",
        "\n",
        "            # Append the data with decimal values\n",
        "            data.append([time, foF2, hmF2, tec])\n",
        "\n",
        "    # Write to CSV\n",
        "    output_file = os.path.join(output_folder, os.path.basename(file_path).replace('.txt', '.csv'))\n",
        "    with open(output_file, 'w', newline='') as csvfile:\n",
        "        csvwriter = csv.writer(csvfile)\n",
        "        csvwriter.writerow(['Time', 'foF2', 'hmF2', 'TEC'])  # Header without CS\n",
        "        csvwriter.writerows(data)\n",
        "\n",
        "# Define input and output folders\n",
        "input_folder = '/content/drive/MyDrive/DataSets/Ionospheric Data/Roquetes'\n",
        "output_folder = '/content/drive/MyDrive/DataSets/Ionospheric Data/Roquetes/CSV'  # Output folder for CSV files\n",
        "\n",
        "# Create the output folder if it doesn't exist\n",
        "if not os.path.exists(output_folder):\n",
        "    os.makedirs(output_folder)\n",
        "\n",
        "# Process all .txt files in the input folder\n",
        "for root, dirs, files in os.walk(input_folder):\n",
        "    for file in files:\n",
        "        if file.endswith('.txt'):\n",
        "            file_path = os.path.join(root, file)\n",
        "            convert_to_csv(file_path, output_folder)\n",
        "            print(f\"Processed: {file_path} -> {os.path.join(output_folder, file.replace('.txt', '.csv'))}\")"
      ],
      "metadata": {
        "colab": {
          "base_uri": "https://localhost:8080/"
        },
        "id": "UNPax5ym5jfp",
        "outputId": "2aec4054-cec8-4178-a54a-8b7796bacccd"
      },
      "execution_count": 19,
      "outputs": [
        {
          "output_type": "stream",
          "name": "stdout",
          "text": [
            "Processed: /content/drive/MyDrive/DataSets/Ionospheric Data/Roquetes/2002.txt -> /content/drive/MyDrive/DataSets/Ionospheric Data/Roquetes/CSV/2002.csv\n",
            "Processed: /content/drive/MyDrive/DataSets/Ionospheric Data/Roquetes/2003.txt -> /content/drive/MyDrive/DataSets/Ionospheric Data/Roquetes/CSV/2003.csv\n",
            "Processed: /content/drive/MyDrive/DataSets/Ionospheric Data/Roquetes/2001.txt -> /content/drive/MyDrive/DataSets/Ionospheric Data/Roquetes/CSV/2001.csv\n",
            "Processed: /content/drive/MyDrive/DataSets/Ionospheric Data/Roquetes/2006.txt -> /content/drive/MyDrive/DataSets/Ionospheric Data/Roquetes/CSV/2006.csv\n",
            "Processed: /content/drive/MyDrive/DataSets/Ionospheric Data/Roquetes/2010.txt -> /content/drive/MyDrive/DataSets/Ionospheric Data/Roquetes/CSV/2010.csv\n",
            "Processed: /content/drive/MyDrive/DataSets/Ionospheric Data/Roquetes/2009.txt -> /content/drive/MyDrive/DataSets/Ionospheric Data/Roquetes/CSV/2009.csv\n",
            "Processed: /content/drive/MyDrive/DataSets/Ionospheric Data/Roquetes/2005.txt -> /content/drive/MyDrive/DataSets/Ionospheric Data/Roquetes/CSV/2005.csv\n",
            "Processed: /content/drive/MyDrive/DataSets/Ionospheric Data/Roquetes/2007.txt -> /content/drive/MyDrive/DataSets/Ionospheric Data/Roquetes/CSV/2007.csv\n",
            "Processed: /content/drive/MyDrive/DataSets/Ionospheric Data/Roquetes/2015.txt -> /content/drive/MyDrive/DataSets/Ionospheric Data/Roquetes/CSV/2015.csv\n",
            "Processed: /content/drive/MyDrive/DataSets/Ionospheric Data/Roquetes/2011.txt -> /content/drive/MyDrive/DataSets/Ionospheric Data/Roquetes/CSV/2011.csv\n",
            "Processed: /content/drive/MyDrive/DataSets/Ionospheric Data/Roquetes/2014.txt -> /content/drive/MyDrive/DataSets/Ionospheric Data/Roquetes/CSV/2014.csv\n",
            "Processed: /content/drive/MyDrive/DataSets/Ionospheric Data/Roquetes/2013.txt -> /content/drive/MyDrive/DataSets/Ionospheric Data/Roquetes/CSV/2013.csv\n"
          ]
        }
      ]
    },
    {
      "cell_type": "code",
      "source": [],
      "metadata": {
        "id": "GEtK1ZLb540r"
      },
      "execution_count": null,
      "outputs": []
    }
  ]
}